{
 "cells": [
  {
   "cell_type": "code",
   "id": "initial_id",
   "metadata": {
    "collapsed": true,
    "ExecuteTime": {
     "end_time": "2025-06-05T02:36:42.700711Z",
     "start_time": "2025-06-05T02:36:42.692687Z"
    }
   },
   "source": "import json",
   "outputs": [],
   "execution_count": 1
  },
  {
   "metadata": {
    "ExecuteTime": {
     "end_time": "2025-06-05T02:37:52.811288Z",
     "start_time": "2025-06-05T02:37:52.796326Z"
    }
   },
   "cell_type": "code",
   "source": [
    "def read_from_jsonl(data_path):\n",
    "    data_list = []\n",
    "    with open(data_path, 'r',encoding='utf-8') as f:\n",
    "        for line in f:\n",
    "            data_list.append(json.loads(line))\n",
    "    return data_list"
   ],
   "id": "7d0f292ab7c7e941",
   "outputs": [],
   "execution_count": 2
  },
  {
   "metadata": {
    "ExecuteTime": {
     "end_time": "2025-06-05T02:38:22.744747Z",
     "start_time": "2025-06-05T02:38:22.696482Z"
    }
   },
   "cell_type": "code",
   "source": [
    "train_list = read_from_jsonl(r'../data/dataset/train.jsonl')\n",
    "test_list = read_from_jsonl(r'../data/dataset/test.jsonl')"
   ],
   "id": "4361ee65df642d02",
   "outputs": [],
   "execution_count": 3
  },
  {
   "metadata": {
    "ExecuteTime": {
     "end_time": "2025-06-05T02:43:42.710205Z",
     "start_time": "2025-06-05T02:43:42.693170Z"
    }
   },
   "cell_type": "code",
   "source": [
    "def get_messages_list(data_list,train=True):\n",
    "    results = []\n",
    "    for data in data_list:\n",
    "        messages = [\n",
    "            {'role':'system','content':'你是一位实体识别专家，请你按照用户的指示，提取出实体和他们之间的关系。'},\n",
    "            {'role':'user','content':data['input']}\n",
    "        ]\n",
    "        if train:\n",
    "            messages.append({'role':'user','content':data['output']})\n",
    "        results.append(messages)\n",
    "    return results"
   ],
   "id": "f1a68c42f5b7558b",
   "outputs": [],
   "execution_count": 4
  },
  {
   "metadata": {
    "ExecuteTime": {
     "end_time": "2025-06-05T02:43:52.934350Z",
     "start_time": "2025-06-05T02:43:52.928284Z"
    }
   },
   "cell_type": "code",
   "source": [
    "train_set = get_messages_list(train_list,train=True)\n",
    "test_set = get_messages_list(test_list,train=False)"
   ],
   "id": "6c1a069a28aae99d",
   "outputs": [],
   "execution_count": 5
  },
  {
   "metadata": {
    "jupyter": {
     "is_executing": true
    }
   },
   "cell_type": "code",
   "source": [
    "def write_to_jsonl(data_list,data_path):\n",
    "    with open(data_path,'w',encoding='utf-8') as f:\n",
    "        for data in data_list:\n",
    "            f.write(json.dumps(data,ensure_ascii=False)+'\\n')"
   ],
   "id": "99a780f83b6f174",
   "outputs": [],
   "execution_count": null
  },
  {
   "metadata": {},
   "cell_type": "code",
   "outputs": [],
   "execution_count": null,
   "source": "",
   "id": "b84ad4765a826057"
  }
 ],
 "metadata": {
  "kernelspec": {
   "display_name": "Python 3",
   "language": "python",
   "name": "python3"
  },
  "language_info": {
   "codemirror_mode": {
    "name": "ipython",
    "version": 2
   },
   "file_extension": ".py",
   "mimetype": "text/x-python",
   "name": "python",
   "nbconvert_exporter": "python",
   "pygments_lexer": "ipython2",
   "version": "2.7.6"
  }
 },
 "nbformat": 4,
 "nbformat_minor": 5
}
